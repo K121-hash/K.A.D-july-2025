{
  "nbformat": 4,
  "nbformat_minor": 0,
  "metadata": {
    "colab": {
      "provenance": [],
      "authorship_tag": "ABX9TyO+8G7dVx0Cj1i65lfIh7YO",
      "include_colab_link": true
    },
    "kernelspec": {
      "name": "python3",
      "display_name": "Python 3"
    },
    "language_info": {
      "name": "python"
    }
  },
  "cells": [
    {
      "cell_type": "markdown",
      "metadata": {
        "id": "view-in-github",
        "colab_type": "text"
      },
      "source": [
        "<a href=\"https://colab.research.google.com/github/K121-hash/K.A.D-july-2025/blob/main/KAD_July_knowledge_showcase.ipynb\" target=\"_parent\"><img src=\"https://colab.research.google.com/assets/colab-badge.svg\" alt=\"Open In Colab\"/></a>"
      ]
    },
    {
      "cell_type": "code",
      "execution_count": 11,
      "metadata": {
        "colab": {
          "base_uri": "https://localhost:8080/"
        },
        "id": "ApVZBJ_GQdG7",
        "outputId": "209a0006-45a9-482a-a04b-045b1ec9c599"
      },
      "outputs": [
        {
          "output_type": "stream",
          "name": "stdout",
          "text": [
            "\n",
            "What is the capital of Gombe State?\n",
            "gombe\n",
            "Correct! ✅\n",
            "\n",
            "What animal can fly?\n",
            "Bird\n",
            "Correct! ✅\n",
            "\n",
            "How many elements are in the periodic table?\n",
            "103\n",
            "Wrong ❌! The correct answer is: 106\n",
            "\n",
            "What is a group of lions called?\n",
            "Pride\n",
            "Correct! ✅\n",
            "\n",
            "what number comes before 3?\n",
            "2\n",
            "Correct! ✅\n",
            "\n",
            "Total Score: 4/5\n"
          ]
        }
      ],
      "source": [
        "questions_and_answers = {\n",
        "    'What is the capital of Gombe State?': 'gombe',\n",
        "    'What animal can fly?': 'bird',\n",
        "    'How many elements are in the periodic table?': '106',\n",
        "    'What is a group of lions called?': 'pride',\n",
        "    'what number comes before 3?': '2'\n",
        "\n",
        "\n",
        "}\n",
        "\n",
        "score = 0\n",
        "\n",
        "for question, correct_answer in questions_and_answers.items():\n",
        "    print(f'\\n{question}')\n",
        "    user_answer = input().strip().lower()\n",
        "\n",
        "    if user_answer == correct_answer:\n",
        "        score += 1\n",
        "        print('Correct! ✅')\n",
        "    else:\n",
        "        print(f'Wrong ❌! The correct answer is: {correct_answer.capitalize()}')\n",
        "\n",
        "print(f'\\nTotal Score: {score}/{len(questions_and_answers)}')"
      ]
    }
  ]
}